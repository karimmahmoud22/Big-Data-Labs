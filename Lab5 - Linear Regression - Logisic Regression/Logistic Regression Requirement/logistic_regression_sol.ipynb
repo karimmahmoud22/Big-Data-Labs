{
  "nbformat": 4,
  "nbformat_minor": 0,
  "metadata": {
    "colab": {
      "provenance": []
    },
    "kernelspec": {
      "name": "ir",
      "display_name": "R"
    },
    "language_info": {
      "name": "R"
    }
  },
  "cells": [
    {
      "cell_type": "code",
      "source": [
        "#Logit\n",
        "rm(list=ls())\n",
        "\n",
        "# Please Answer all the questions\n",
        "# ===============================\n",
        "# Logistic Regression, also known as Logit,\n",
        "# is typically used in models where the dependent\n",
        "# variables have a binary outcome (True/False, which is coded with 1/0).\n",
        "# You model the log odds of the outcome\n",
        "# as a linear combination of predictor variables).\n",
        "\n",
        "# [Terminology]:\n",
        "# 0- logit = logistic regression\n",
        "# 1- output variable = outcome = response variable = dependent variable\n",
        "# 2- input variables (features) = predictor variables = explanatory variables = drivers = independent variables\n",
        "# 3- residual: the true value - the predicted value\n",
        "# 4- fit = train the model\n",
        "# 5- odds of an event: the likelihood of that event to happen. (anologous to probability but not the same)\n",
        "# 6- odds ratio = p/(1-p) --> the prob. to occur / the prob to not occur\n",
        "#                             for example: p = 0.2, 1-p = 0.8 --> odds ratio is 1 to 4\n",
        "# 7- log odds ratio: log(odds ratio) = log(p/(1-p)) = y = sum_over_i(coeff_i * feature_i), i = 0 to n\n",
        "# 8- the prob. p from log odds ratio p = 1 / (1 + e^-y) --> sigmoid function\n"
      ],
      "metadata": {
        "id": "32nviWZhV2UC"
      },
      "execution_count": 4,
      "outputs": []
    },
    {
      "cell_type": "code",
      "source": [
        "# [Data Description]:\n",
        "# the marketing campaign team wants to send\n",
        "# special offers to those respondents with the highest probability of purchase.\n",
        "# the response variable is purchase or no purchase\n",
        "# given customer income and age and product price\n",
        "Mydata <- read.csv(\"survey.csv\",header=TRUE,sep=\",\")"
      ],
      "metadata": {
        "id": "E4LZYZu3WGSJ"
      },
      "execution_count": 6,
      "outputs": []
    },
    {
      "cell_type": "code",
      "source": [
        "# [1] Explore data\n",
        "table(Mydata$MYDEPV) # the outcome variable\n",
        "                     # purchase or no purchase\n",
        "with(Mydata, table(Price,MYDEPV))\n",
        "summary(Mydata$Age)\n",
        "cor.mat <- cor(Mydata[,-1]) # the input variables\n",
        "cor.mat # Note: The general rule is not to include variables in your model that are\n",
        "        # too highly correlated with other predictors.\n",
        "        # corr 0: independent, corr 1: highly correlated, corr -1: highly correlated in inverse direction\n"
      ],
      "metadata": {
        "colab": {
          "base_uri": "https://localhost:8080/",
          "height": 343
        },
        "id": "zWKUXPNMWbcm",
        "outputId": "5c5fb76c-eb88-422a-ab8e-f31e1a496c17"
      },
      "execution_count": 7,
      "outputs": [
        {
          "output_type": "display_data",
          "data": {
            "text/plain": [
              "\n",
              "  0   1 \n",
              "426 324 "
            ]
          },
          "metadata": {}
        },
        {
          "output_type": "display_data",
          "data": {
            "text/plain": [
              "     MYDEPV\n",
              "Price   0   1\n",
              "   10 115 135\n",
              "   20 137 113\n",
              "   30 174  76"
            ]
          },
          "metadata": {}
        },
        {
          "output_type": "display_data",
          "data": {
            "text/plain": [
              "   Min. 1st Qu.  Median    Mean 3rd Qu.    Max. \n",
              "  18.00   32.00   32.00   35.98   43.00   66.00 "
            ]
          },
          "metadata": {}
        },
        {
          "output_type": "display_data",
          "data": {
            "text/html": [
              "<table class=\"dataframe\">\n",
              "<caption>A matrix: 3 × 3 of type dbl</caption>\n",
              "<thead>\n",
              "\t<tr><th></th><th scope=col>Price</th><th scope=col>Income</th><th scope=col>Age</th></tr>\n",
              "</thead>\n",
              "<tbody>\n",
              "\t<tr><th scope=row>Price</th><td>1</td><td>0.00000000</td><td>0.00000000</td></tr>\n",
              "\t<tr><th scope=row>Income</th><td>0</td><td>1.00000000</td><td>0.09612083</td></tr>\n",
              "\t<tr><th scope=row>Age</th><td>0</td><td>0.09612083</td><td>1.00000000</td></tr>\n",
              "</tbody>\n",
              "</table>\n"
            ],
            "text/markdown": "\nA matrix: 3 × 3 of type dbl\n\n| <!--/--> | Price | Income | Age |\n|---|---|---|---|\n| Price | 1 | 0.00000000 | 0.00000000 |\n| Income | 0 | 1.00000000 | 0.09612083 |\n| Age | 0 | 0.09612083 | 1.00000000 |\n\n",
            "text/latex": "A matrix: 3 × 3 of type dbl\n\\begin{tabular}{r|lll}\n  & Price & Income & Age\\\\\n\\hline\n\tPrice & 1 & 0.00000000 & 0.00000000\\\\\n\tIncome & 0 & 1.00000000 & 0.09612083\\\\\n\tAge & 0 & 0.09612083 & 1.00000000\\\\\n\\end{tabular}\n",
            "text/plain": [
              "       Price Income     Age       \n",
              "Price  1     0.00000000 0.00000000\n",
              "Income 0     1.00000000 0.09612083\n",
              "Age    0     0.09612083 1.00000000"
            ]
          },
          "metadata": {}
        }
      ]
    },
    {
      "cell_type": "code",
      "source": [
        "#(Q1) Write the variable pairs that are not correlated at all to each other.\n",
        "# ==>  (Price, Age) and (Price, Income)"
      ],
      "metadata": {
        "id": "CCqP3y9MWmOa"
      },
      "execution_count": 8,
      "outputs": []
    },
    {
      "cell_type": "code",
      "source": [
        "#(Q2) Are there any highly correlated variables in this dataset?\n",
        "# ==> No because all pair have a low correlation value"
      ],
      "metadata": {
        "id": "IWEQerOfWqWw"
      },
      "execution_count": 9,
      "outputs": []
    },
    {
      "cell_type": "code",
      "source": [
        "# [2] Test a model with 3 variables Price, Income and Age\n",
        "mylogit <- glm(MYDEPV ~ Income + Age + as.factor(Price),\n",
        "           data =Mydata, family=binomial(link=\"logit\"),\n",
        "           na.action=na.pass) # as.factor(Price) : to deal with price as categorical feature\n",
        "summary(mylogit)\n",
        "                 # Additional information:\n",
        "                 # ==================\n",
        "                 # Read this: http://www.theanalysisfactor.com/r-glm-model-fit/\n",
        "                 # Deviance: Deviance is a measure of the \"badness\" of fit (trained model) of a generalized linear model\n",
        "                 #      the smaller the better\n",
        "                 # Null Deviance shows how well the response variable is predicted by a model that includes only the intercept\n",
        "                 # Residual Deviance: after including the weighted predictors to the intercept\n",
        "                 # The quantity: 1 - (Residual deviance/Null deviance)\n",
        "                 #      is  called \"pseudo-R-squared\"; you use it to evaluate \"goodness\" of fit\n",
        "                 # AIC: provides a method for assessing the quality of your model through comparison of related models.\n",
        "                 #      it's useful for comparing models, but isn't interpretable on its own.\n",
        "                 #      the smaller the better\n",
        "                 # Fisher Scoring: This doesn't really tell you a lot of what you need to know,\n",
        "                 #      other than the fact that the model did indeed converge, and had no trouble doing it.\n",
        "                 # ===== End of additional information =======\n",
        "\n",
        "    # Notice how the price in coefficient section is divided into 2 entries:\n",
        "    # as.factor(Price)20, as.factor(Price)30"
      ],
      "metadata": {
        "colab": {
          "base_uri": "https://localhost:8080/",
          "height": 419
        },
        "id": "1PVp_CGnW3bY",
        "outputId": "6e127405-4d43-470f-b11c-a6d14d2d73ee"
      },
      "execution_count": 10,
      "outputs": [
        {
          "output_type": "display_data",
          "data": {
            "text/plain": [
              "\n",
              "Call:\n",
              "glm(formula = MYDEPV ~ Income + Age + as.factor(Price), family = binomial(link = \"logit\"), \n",
              "    data = Mydata, na.action = na.pass)\n",
              "\n",
              "Coefficients:\n",
              "                   Estimate Std. Error z value Pr(>|z|)    \n",
              "(Intercept)        -6.02116    0.53244 -11.309  < 2e-16 ***\n",
              "Income              0.12876    0.00923  13.950  < 2e-16 ***\n",
              "Age                 0.03506    0.01179   2.974  0.00294 ** \n",
              "as.factor(Price)20 -0.74418    0.26439  -2.815  0.00488 ** \n",
              "as.factor(Price)30 -2.21028    0.31108  -7.105  1.2e-12 ***\n",
              "---\n",
              "Signif. codes:  0 ‘***’ 0.001 ‘**’ 0.01 ‘*’ 0.05 ‘.’ 0.1 ‘ ’ 1\n",
              "\n",
              "(Dispersion parameter for binomial family taken to be 1)\n",
              "\n",
              "    Null deviance: 1025.81  on 749  degrees of freedom\n",
              "Residual deviance:  534.17  on 745  degrees of freedom\n",
              "AIC: 544.17\n",
              "\n",
              "Number of Fisher Scoring iterations: 6\n"
            ]
          },
          "metadata": {}
        }
      ]
    },
    {
      "cell_type": "code",
      "source": [
        "#(Q3): How many categories are there for the Price variable?\n",
        "# There are 3 categories for price (10, 20, 30)"
      ],
      "metadata": {
        "id": "IPwm5QL9W587"
      },
      "execution_count": 11,
      "outputs": []
    },
    {
      "cell_type": "code",
      "source": [
        "#(Q4): Why is it divided into two entries only in the model?\n",
        "# ==> Because it is 3 categories so it is divided into n-1 variables which is 2"
      ],
      "metadata": {
        "id": "UukZs_OQXLn6"
      },
      "execution_count": 12,
      "outputs": []
    },
    {
      "cell_type": "code",
      "source": [
        "# Review the \"Estimate\" column. For every one unit change in Income (while other variables are constants),\n",
        "# the log odd ratio of Purchase (not the probability) increases by 0.12876 (the coefficients)\n",
        "\n",
        "# [3] ROC Curve\n",
        "if(!require(\"ROCR\"))\n",
        "{\n",
        "  install.packages(\"ROCR\")\n",
        "  library(ROCR)\n",
        "}\n",
        "#### NOTE: For this part, you need to search and read about the ROC curve.\n",
        "pred = predict(mylogit, type=\"response\") # this returns the probability scores on the training data\n",
        "predObj = prediction(pred, Mydata$MYDEPV) # prediction object needed by ROCR\n",
        "\n",
        "rocObj = performance(predObj, measure=\"tpr\", x.measure=\"fpr\")  # creates ROC curve obj\n",
        "aucObj = performance(predObj, measure=\"auc\")  # auc object\n",
        "\n",
        "auc = aucObj@y.values[[1]]\n",
        "auc   # the auc score: tells you how well the model predicts.\n"
      ],
      "metadata": {
        "colab": {
          "base_uri": "https://localhost:8080/",
          "height": 237
        },
        "id": "Bb5fx9viXaAc",
        "outputId": "d543ee59-c5bc-4ddb-91c0-8c4104c5aadd"
      },
      "execution_count": 13,
      "outputs": [
        {
          "output_type": "stream",
          "name": "stderr",
          "text": [
            "Loading required package: ROCR\n",
            "\n",
            "Warning message in library(package, lib.loc = lib.loc, character.only = TRUE, logical.return = TRUE, :\n",
            "“there is no package called ‘ROCR’”\n",
            "Installing package into ‘/usr/local/lib/R/site-library’\n",
            "(as ‘lib’ is unspecified)\n",
            "\n",
            "also installing the dependencies ‘bitops’, ‘gtools’, ‘caTools’, ‘gplots’\n",
            "\n",
            "\n"
          ]
        },
        {
          "output_type": "display_data",
          "data": {
            "text/html": [
              "0.915271981684344"
            ],
            "text/markdown": "0.915271981684344",
            "text/latex": "0.915271981684344",
            "text/plain": [
              "[1] 0.915272"
            ]
          },
          "metadata": {}
        }
      ]
    },
    {
      "cell_type": "code",
      "source": [
        "#(Q5.1) Write the value of this expression (just the number)\n",
        "# ==> Area under the curve = 0.915271981684344"
      ],
      "metadata": {
        "id": "pu5evLTlXdbB"
      },
      "execution_count": 14,
      "outputs": []
    },
    {
      "cell_type": "code",
      "source": [
        "#(Q5.2) What is the maximum value of AUC (ideal case)?\n",
        "# ==> The maximum AUC is 1 so it maximizes the TPR and minimizes FPR"
      ],
      "metadata": {
        "id": "7PELN18uXk-Y"
      },
      "execution_count": 15,
      "outputs": []
    },
    {
      "cell_type": "code",
      "source": [
        "# plot the roc curve\n",
        "plot(rocObj, main = paste(\"Area under the curve:\", auc))\n"
      ],
      "metadata": {
        "colab": {
          "base_uri": "https://localhost:8080/",
          "height": 437
        },
        "id": "YGJEKU08Xruf",
        "outputId": "9683a7a5-4681-4ef2-88e0-4edcd79eff51"
      },
      "execution_count": 16,
      "outputs": [
        {
          "output_type": "display_data",
          "data": {
            "text/plain": [
              "Plot with title “Area under the curve: 0.915271981684344”"
            ],
            "image/png": "[encoded data removed]"
          },
          "metadata": {
            "image/png": {
              "width": 420,
              "height": 420
            }
          }
        }
      ]
    },
    {
      "cell_type": "code",
      "source": [
        "#(Q6) What does each point in the ROC graph represent?\n",
        "#In other words, what is the value that changes and drives TPR and FPR to change too\n",
        "#from one point to another in the graph?\n",
        "\n",
        "# ==> The threshold of classification either positive or negative so a good model\n",
        "# ==> when move from left to right the TPR approach values near 1 with only a small change in FPR."
      ],
      "metadata": {
        "id": "qNArWYXVXuD4"
      },
      "execution_count": 18,
      "outputs": []
    },
    {
      "cell_type": "code",
      "source": [
        "# [4] Predictions\n",
        "#Prediction - 1\n",
        "Price <- c(10,20,30)\n",
        "Age <- c(mean(Mydata$Age))\n",
        "Income <- c(mean(Mydata$Income))\n",
        "newdata1 <- data.frame(Income,Age,Price) # Note: The predict function requires the variables to be named exactly as in the fitted model.\n",
        "newdata1\n",
        "newdata1$PurchaseP <- predict (mylogit,newdata=newdata1,type=\"response\")\n",
        "newdata1\n"
      ],
      "metadata": {
        "colab": {
          "base_uri": "https://localhost:8080/",
          "height": 367
        },
        "id": "Clh63HAfX0_k",
        "outputId": "33377d65-e7ab-42ba-f0a1-fb2f8cac8f3e"
      },
      "execution_count": 19,
      "outputs": [
        {
          "output_type": "display_data",
          "data": {
            "text/html": [
              "<table class=\"dataframe\">\n",
              "<caption>A data.frame: 3 × 3</caption>\n",
              "<thead>\n",
              "\t<tr><th scope=col>Income</th><th scope=col>Age</th><th scope=col>Price</th></tr>\n",
              "\t<tr><th scope=col>&lt;dbl&gt;</th><th scope=col>&lt;dbl&gt;</th><th scope=col>&lt;dbl&gt;</th></tr>\n",
              "</thead>\n",
              "<tbody>\n",
              "\t<tr><td>42.492</td><td>35.976</td><td>10</td></tr>\n",
              "\t<tr><td>42.492</td><td>35.976</td><td>20</td></tr>\n",
              "\t<tr><td>42.492</td><td>35.976</td><td>30</td></tr>\n",
              "</tbody>\n",
              "</table>\n"
            ],
            "text/markdown": "\nA data.frame: 3 × 3\n\n| Income &lt;dbl&gt; | Age &lt;dbl&gt; | Price &lt;dbl&gt; |\n|---|---|---|\n| 42.492 | 35.976 | 10 |\n| 42.492 | 35.976 | 20 |\n| 42.492 | 35.976 | 30 |\n\n",
            "text/latex": "A data.frame: 3 × 3\n\\begin{tabular}{lll}\n Income & Age & Price\\\\\n <dbl> & <dbl> & <dbl>\\\\\n\\hline\n\t 42.492 & 35.976 & 10\\\\\n\t 42.492 & 35.976 & 20\\\\\n\t 42.492 & 35.976 & 30\\\\\n\\end{tabular}\n",
            "text/plain": [
              "  Income Age    Price\n",
              "1 42.492 35.976 10   \n",
              "2 42.492 35.976 20   \n",
              "3 42.492 35.976 30   "
            ]
          },
          "metadata": {}
        },
        {
          "output_type": "display_data",
          "data": {
            "text/html": [
              "<table class=\"dataframe\">\n",
              "<caption>A data.frame: 3 × 4</caption>\n",
              "<thead>\n",
              "\t<tr><th scope=col>Income</th><th scope=col>Age</th><th scope=col>Price</th><th scope=col>PurchaseP</th></tr>\n",
              "\t<tr><th scope=col>&lt;dbl&gt;</th><th scope=col>&lt;dbl&gt;</th><th scope=col>&lt;dbl&gt;</th><th scope=col>&lt;dbl&gt;</th></tr>\n",
              "</thead>\n",
              "<tbody>\n",
              "\t<tr><td>42.492</td><td>35.976</td><td>10</td><td>0.6707408</td></tr>\n",
              "\t<tr><td>42.492</td><td>35.976</td><td>20</td><td>0.4918407</td></tr>\n",
              "\t<tr><td>42.492</td><td>35.976</td><td>30</td><td>0.1826131</td></tr>\n",
              "</tbody>\n",
              "</table>\n"
            ],
            "text/markdown": "\nA data.frame: 3 × 4\n\n| Income &lt;dbl&gt; | Age &lt;dbl&gt; | Price &lt;dbl&gt; | PurchaseP &lt;dbl&gt; |\n|---|---|---|---|\n| 42.492 | 35.976 | 10 | 0.6707408 |\n| 42.492 | 35.976 | 20 | 0.4918407 |\n| 42.492 | 35.976 | 30 | 0.1826131 |\n\n",
            "text/latex": "A data.frame: 3 × 4\n\\begin{tabular}{llll}\n Income & Age & Price & PurchaseP\\\\\n <dbl> & <dbl> & <dbl> & <dbl>\\\\\n\\hline\n\t 42.492 & 35.976 & 10 & 0.6707408\\\\\n\t 42.492 & 35.976 & 20 & 0.4918407\\\\\n\t 42.492 & 35.976 & 30 & 0.1826131\\\\\n\\end{tabular}\n",
            "text/plain": [
              "  Income Age    Price PurchaseP\n",
              "1 42.492 35.976 10    0.6707408\n",
              "2 42.492 35.976 20    0.4918407\n",
              "3 42.492 35.976 30    0.1826131"
            ]
          },
          "metadata": {}
        }
      ]
    },
    {
      "cell_type": "code",
      "source": [
        "#(Q7) How is the predicted probability affected by changing only price holding all other variables constant?\n",
        "# ==> It is getting lower because as the price increase\n",
        "# ==> the probability of purchasing something more expensive is getting lower\n"
      ],
      "metadata": {
        "id": "GhdDZ5BYX34J"
      },
      "execution_count": 20,
      "outputs": []
    },
    {
      "cell_type": "code",
      "source": [
        "#Prediction - 2\n",
        "newdata2 <- data.frame(Age=seq(min(Mydata$Age),max(Mydata$Age),2),\n",
        "                       Income=mean(Mydata$Income),Price=30)\n",
        "newdata2\n",
        "newdata2$PurchaseP <- predict(mylogit,newdata=newdata2,type=\"response\")\n",
        "newdata2\n",
        "cbind(newdata2$Age,newdata2$PurchaseP)\n",
        "plot(newdata2$Age,newdata2$PurchaseP)"
      ],
      "metadata": {
        "colab": {
          "base_uri": "https://localhost:8080/",
          "height": 1000
        },
        "id": "9k-XXKmTX_M2",
        "outputId": "4e95652f-136d-4bb1-9736-78460a0fdc87"
      },
      "execution_count": 21,
      "outputs": [
        {
          "output_type": "display_data",
          "data": {
            "text/html": [
              "<table class=\"dataframe\">\n",
              "<caption>A data.frame: 25 × 3</caption>\n",
              "<thead>\n",
              "\t<tr><th scope=col>Age</th><th scope=col>Income</th><th scope=col>Price</th></tr>\n",
              "\t<tr><th scope=col>&lt;dbl&gt;</th><th scope=col>&lt;dbl&gt;</th><th scope=col>&lt;dbl&gt;</th></tr>\n",
              "</thead>\n",
              "<tbody>\n",
              "\t<tr><td>18</td><td>42.492</td><td>30</td></tr>\n",
              "\t<tr><td>20</td><td>42.492</td><td>30</td></tr>\n",
              "\t<tr><td>22</td><td>42.492</td><td>30</td></tr>\n",
              "\t<tr><td>24</td><td>42.492</td><td>30</td></tr>\n",
              "\t<tr><td>26</td><td>42.492</td><td>30</td></tr>\n",
              "\t<tr><td>28</td><td>42.492</td><td>30</td></tr>\n",
              "\t<tr><td>30</td><td>42.492</td><td>30</td></tr>\n",
              "\t<tr><td>32</td><td>42.492</td><td>30</td></tr>\n",
              "\t<tr><td>34</td><td>42.492</td><td>30</td></tr>\n",
              "\t<tr><td>36</td><td>42.492</td><td>30</td></tr>\n",
              "\t<tr><td>38</td><td>42.492</td><td>30</td></tr>\n",
              "\t<tr><td>40</td><td>42.492</td><td>30</td></tr>\n",
              "\t<tr><td>42</td><td>42.492</td><td>30</td></tr>\n",
              "\t<tr><td>44</td><td>42.492</td><td>30</td></tr>\n",
              "\t<tr><td>46</td><td>42.492</td><td>30</td></tr>\n",
              "\t<tr><td>48</td><td>42.492</td><td>30</td></tr>\n",
              "\t<tr><td>50</td><td>42.492</td><td>30</td></tr>\n",
              "\t<tr><td>52</td><td>42.492</td><td>30</td></tr>\n",
              "\t<tr><td>54</td><td>42.492</td><td>30</td></tr>\n",
              "\t<tr><td>56</td><td>42.492</td><td>30</td></tr>\n",
              "\t<tr><td>58</td><td>42.492</td><td>30</td></tr>\n",
              "\t<tr><td>60</td><td>42.492</td><td>30</td></tr>\n",
              "\t<tr><td>62</td><td>42.492</td><td>30</td></tr>\n",
              "\t<tr><td>64</td><td>42.492</td><td>30</td></tr>\n",
              "\t<tr><td>66</td><td>42.492</td><td>30</td></tr>\n",
              "</tbody>\n",
              "</table>\n"
            ],
            "text/markdown": "\nA data.frame: 25 × 3\n\n| Age &lt;dbl&gt; | Income &lt;dbl&gt; | Price &lt;dbl&gt; |\n|---|---|---|\n| 18 | 42.492 | 30 |\n| 20 | 42.492 | 30 |\n| 22 | 42.492 | 30 |\n| 24 | 42.492 | 30 |\n| 26 | 42.492 | 30 |\n| 28 | 42.492 | 30 |\n| 30 | 42.492 | 30 |\n| 32 | 42.492 | 30 |\n| 34 | 42.492 | 30 |\n| 36 | 42.492 | 30 |\n| 38 | 42.492 | 30 |\n| 40 | 42.492 | 30 |\n| 42 | 42.492 | 30 |\n| 44 | 42.492 | 30 |\n| 46 | 42.492 | 30 |\n| 48 | 42.492 | 30 |\n| 50 | 42.492 | 30 |\n| 52 | 42.492 | 30 |\n| 54 | 42.492 | 30 |\n| 56 | 42.492 | 30 |\n| 58 | 42.492 | 30 |\n| 60 | 42.492 | 30 |\n| 62 | 42.492 | 30 |\n| 64 | 42.492 | 30 |\n| 66 | 42.492 | 30 |\n\n",
            "text/latex": "A data.frame: 25 × 3\n\\begin{tabular}{lll}\n Age & Income & Price\\\\\n <dbl> & <dbl> & <dbl>\\\\\n\\hline\n\t 18 & 42.492 & 30\\\\\n\t 20 & 42.492 & 30\\\\\n\t 22 & 42.492 & 30\\\\\n\t 24 & 42.492 & 30\\\\\n\t 26 & 42.492 & 30\\\\\n\t 28 & 42.492 & 30\\\\\n\t 30 & 42.492 & 30\\\\\n\t 32 & 42.492 & 30\\\\\n\t 34 & 42.492 & 30\\\\\n\t 36 & 42.492 & 30\\\\\n\t 38 & 42.492 & 30\\\\\n\t 40 & 42.492 & 30\\\\\n\t 42 & 42.492 & 30\\\\\n\t 44 & 42.492 & 30\\\\\n\t 46 & 42.492 & 30\\\\\n\t 48 & 42.492 & 30\\\\\n\t 50 & 42.492 & 30\\\\\n\t 52 & 42.492 & 30\\\\\n\t 54 & 42.492 & 30\\\\\n\t 56 & 42.492 & 30\\\\\n\t 58 & 42.492 & 30\\\\\n\t 60 & 42.492 & 30\\\\\n\t 62 & 42.492 & 30\\\\\n\t 64 & 42.492 & 30\\\\\n\t 66 & 42.492 & 30\\\\\n\\end{tabular}\n",
            "text/plain": [
              "   Age Income Price\n",
              "1  18  42.492 30   \n",
              "2  20  42.492 30   \n",
              "3  22  42.492 30   \n",
              "4  24  42.492 30   \n",
              "5  26  42.492 30   \n",
              "6  28  42.492 30   \n",
              "7  30  42.492 30   \n",
              "8  32  42.492 30   \n",
              "9  34  42.492 30   \n",
              "10 36  42.492 30   \n",
              "11 38  42.492 30   \n",
              "12 40  42.492 30   \n",
              "13 42  42.492 30   \n",
              "14 44  42.492 30   \n",
              "15 46  42.492 30   \n",
              "16 48  42.492 30   \n",
              "17 50  42.492 30   \n",
              "18 52  42.492 30   \n",
              "19 54  42.492 30   \n",
              "20 56  42.492 30   \n",
              "21 58  42.492 30   \n",
              "22 60  42.492 30   \n",
              "23 62  42.492 30   \n",
              "24 64  42.492 30   \n",
              "25 66  42.492 30   "
            ]
          },
          "metadata": {}
        },
        {
          "output_type": "display_data",
          "data": {
            "text/html": [
              "<table class=\"dataframe\">\n",
              "<caption>A data.frame: 25 × 4</caption>\n",
              "<thead>\n",
              "\t<tr><th scope=col>Age</th><th scope=col>Income</th><th scope=col>Price</th><th scope=col>PurchaseP</th></tr>\n",
              "\t<tr><th scope=col>&lt;dbl&gt;</th><th scope=col>&lt;dbl&gt;</th><th scope=col>&lt;dbl&gt;</th><th scope=col>&lt;dbl&gt;</th></tr>\n",
              "</thead>\n",
              "<tbody>\n",
              "\t<tr><td>18</td><td>42.492</td><td>30</td><td>0.1063052</td></tr>\n",
              "\t<tr><td>20</td><td>42.492</td><td>30</td><td>0.1131540</td></tr>\n",
              "\t<tr><td>22</td><td>42.492</td><td>30</td><td>0.1203845</td></tr>\n",
              "\t<tr><td>24</td><td>42.492</td><td>30</td><td>0.1280103</td></tr>\n",
              "\t<tr><td>26</td><td>42.492</td><td>30</td><td>0.1360445</td></tr>\n",
              "\t<tr><td>28</td><td>42.492</td><td>30</td><td>0.1444993</td></tr>\n",
              "\t<tr><td>30</td><td>42.492</td><td>30</td><td>0.1533864</td></tr>\n",
              "\t<tr><td>32</td><td>42.492</td><td>30</td><td>0.1627160</td></tr>\n",
              "\t<tr><td>34</td><td>42.492</td><td>30</td><td>0.1724975</td></tr>\n",
              "\t<tr><td>36</td><td>42.492</td><td>30</td><td>0.1827387</td></tr>\n",
              "\t<tr><td>38</td><td>42.492</td><td>30</td><td>0.1934457</td></tr>\n",
              "\t<tr><td>40</td><td>42.492</td><td>30</td><td>0.2046231</td></tr>\n",
              "\t<tr><td>42</td><td>42.492</td><td>30</td><td>0.2162731</td></tr>\n",
              "\t<tr><td>44</td><td>42.492</td><td>30</td><td>0.2283958</td></tr>\n",
              "\t<tr><td>46</td><td>42.492</td><td>30</td><td>0.2409892</td></tr>\n",
              "\t<tr><td>48</td><td>42.492</td><td>30</td><td>0.2540483</td></tr>\n",
              "\t<tr><td>50</td><td>42.492</td><td>30</td><td>0.2675657</td></tr>\n",
              "\t<tr><td>52</td><td>42.492</td><td>30</td><td>0.2815308</td></tr>\n",
              "\t<tr><td>54</td><td>42.492</td><td>30</td><td>0.2959303</td></tr>\n",
              "\t<tr><td>56</td><td>42.492</td><td>30</td><td>0.3107477</td></tr>\n",
              "\t<tr><td>58</td><td>42.492</td><td>30</td><td>0.3259636</td></tr>\n",
              "\t<tr><td>60</td><td>42.492</td><td>30</td><td>0.3415553</td></tr>\n",
              "\t<tr><td>62</td><td>42.492</td><td>30</td><td>0.3574973</td></tr>\n",
              "\t<tr><td>64</td><td>42.492</td><td>30</td><td>0.3737609</td></tr>\n",
              "\t<tr><td>66</td><td>42.492</td><td>30</td><td>0.3903150</td></tr>\n",
              "</tbody>\n",
              "</table>\n"
            ],
            "text/markdown": "\nA data.frame: 25 × 4\n\n| Age &lt;dbl&gt; | Income &lt;dbl&gt; | Price &lt;dbl&gt; | PurchaseP &lt;dbl&gt; |\n|---|---|---|---|\n| 18 | 42.492 | 30 | 0.1063052 |\n| 20 | 42.492 | 30 | 0.1131540 |\n| 22 | 42.492 | 30 | 0.1203845 |\n| 24 | 42.492 | 30 | 0.1280103 |\n| 26 | 42.492 | 30 | 0.1360445 |\n| 28 | 42.492 | 30 | 0.1444993 |\n| 30 | 42.492 | 30 | 0.1533864 |\n| 32 | 42.492 | 30 | 0.1627160 |\n| 34 | 42.492 | 30 | 0.1724975 |\n| 36 | 42.492 | 30 | 0.1827387 |\n| 38 | 42.492 | 30 | 0.1934457 |\n| 40 | 42.492 | 30 | 0.2046231 |\n| 42 | 42.492 | 30 | 0.2162731 |\n| 44 | 42.492 | 30 | 0.2283958 |\n| 46 | 42.492 | 30 | 0.2409892 |\n| 48 | 42.492 | 30 | 0.2540483 |\n| 50 | 42.492 | 30 | 0.2675657 |\n| 52 | 42.492 | 30 | 0.2815308 |\n| 54 | 42.492 | 30 | 0.2959303 |\n| 56 | 42.492 | 30 | 0.3107477 |\n| 58 | 42.492 | 30 | 0.3259636 |\n| 60 | 42.492 | 30 | 0.3415553 |\n| 62 | 42.492 | 30 | 0.3574973 |\n| 64 | 42.492 | 30 | 0.3737609 |\n| 66 | 42.492 | 30 | 0.3903150 |\n\n",
            "text/latex": "A data.frame: 25 × 4\n\\begin{tabular}{llll}\n Age & Income & Price & PurchaseP\\\\\n <dbl> & <dbl> & <dbl> & <dbl>\\\\\n\\hline\n\t 18 & 42.492 & 30 & 0.1063052\\\\\n\t 20 & 42.492 & 30 & 0.1131540\\\\\n\t 22 & 42.492 & 30 & 0.1203845\\\\\n\t 24 & 42.492 & 30 & 0.1280103\\\\\n\t 26 & 42.492 & 30 & 0.1360445\\\\\n\t 28 & 42.492 & 30 & 0.1444993\\\\\n\t 30 & 42.492 & 30 & 0.1533864\\\\\n\t 32 & 42.492 & 30 & 0.1627160\\\\\n\t 34 & 42.492 & 30 & 0.1724975\\\\\n\t 36 & 42.492 & 30 & 0.1827387\\\\\n\t 38 & 42.492 & 30 & 0.1934457\\\\\n\t 40 & 42.492 & 30 & 0.2046231\\\\\n\t 42 & 42.492 & 30 & 0.2162731\\\\\n\t 44 & 42.492 & 30 & 0.2283958\\\\\n\t 46 & 42.492 & 30 & 0.2409892\\\\\n\t 48 & 42.492 & 30 & 0.2540483\\\\\n\t 50 & 42.492 & 30 & 0.2675657\\\\\n\t 52 & 42.492 & 30 & 0.2815308\\\\\n\t 54 & 42.492 & 30 & 0.2959303\\\\\n\t 56 & 42.492 & 30 & 0.3107477\\\\\n\t 58 & 42.492 & 30 & 0.3259636\\\\\n\t 60 & 42.492 & 30 & 0.3415553\\\\\n\t 62 & 42.492 & 30 & 0.3574973\\\\\n\t 64 & 42.492 & 30 & 0.3737609\\\\\n\t 66 & 42.492 & 30 & 0.3903150\\\\\n\\end{tabular}\n",
            "text/plain": [
              "   Age Income Price PurchaseP\n",
              "1  18  42.492 30    0.1063052\n",
              "2  20  42.492 30    0.1131540\n",
              "3  22  42.492 30    0.1203845\n",
              "4  24  42.492 30    0.1280103\n",
              "5  26  42.492 30    0.1360445\n",
              "6  28  42.492 30    0.1444993\n",
              "7  30  42.492 30    0.1533864\n",
              "8  32  42.492 30    0.1627160\n",
              "9  34  42.492 30    0.1724975\n",
              "10 36  42.492 30    0.1827387\n",
              "11 38  42.492 30    0.1934457\n",
              "12 40  42.492 30    0.2046231\n",
              "13 42  42.492 30    0.2162731\n",
              "14 44  42.492 30    0.2283958\n",
              "15 46  42.492 30    0.2409892\n",
              "16 48  42.492 30    0.2540483\n",
              "17 50  42.492 30    0.2675657\n",
              "18 52  42.492 30    0.2815308\n",
              "19 54  42.492 30    0.2959303\n",
              "20 56  42.492 30    0.3107477\n",
              "21 58  42.492 30    0.3259636\n",
              "22 60  42.492 30    0.3415553\n",
              "23 62  42.492 30    0.3574973\n",
              "24 64  42.492 30    0.3737609\n",
              "25 66  42.492 30    0.3903150"
            ]
          },
          "metadata": {}
        },
        {
          "output_type": "display_data",
          "data": {
            "text/html": [
              "<table class=\"dataframe\">\n",
              "<caption>A matrix: 25 × 2 of type dbl</caption>\n",
              "<tbody>\n",
              "\t<tr><td>18</td><td>0.1063052</td></tr>\n",
              "\t<tr><td>20</td><td>0.1131540</td></tr>\n",
              "\t<tr><td>22</td><td>0.1203845</td></tr>\n",
              "\t<tr><td>24</td><td>0.1280103</td></tr>\n",
              "\t<tr><td>26</td><td>0.1360445</td></tr>\n",
              "\t<tr><td>28</td><td>0.1444993</td></tr>\n",
              "\t<tr><td>30</td><td>0.1533864</td></tr>\n",
              "\t<tr><td>32</td><td>0.1627160</td></tr>\n",
              "\t<tr><td>34</td><td>0.1724975</td></tr>\n",
              "\t<tr><td>36</td><td>0.1827387</td></tr>\n",
              "\t<tr><td>38</td><td>0.1934457</td></tr>\n",
              "\t<tr><td>40</td><td>0.2046231</td></tr>\n",
              "\t<tr><td>42</td><td>0.2162731</td></tr>\n",
              "\t<tr><td>44</td><td>0.2283958</td></tr>\n",
              "\t<tr><td>46</td><td>0.2409892</td></tr>\n",
              "\t<tr><td>48</td><td>0.2540483</td></tr>\n",
              "\t<tr><td>50</td><td>0.2675657</td></tr>\n",
              "\t<tr><td>52</td><td>0.2815308</td></tr>\n",
              "\t<tr><td>54</td><td>0.2959303</td></tr>\n",
              "\t<tr><td>56</td><td>0.3107477</td></tr>\n",
              "\t<tr><td>58</td><td>0.3259636</td></tr>\n",
              "\t<tr><td>60</td><td>0.3415553</td></tr>\n",
              "\t<tr><td>62</td><td>0.3574973</td></tr>\n",
              "\t<tr><td>64</td><td>0.3737609</td></tr>\n",
              "\t<tr><td>66</td><td>0.3903150</td></tr>\n",
              "</tbody>\n",
              "</table>\n"
            ],
            "text/markdown": "\nA matrix: 25 × 2 of type dbl\n\n| 18 | 0.1063052 |\n| 20 | 0.1131540 |\n| 22 | 0.1203845 |\n| 24 | 0.1280103 |\n| 26 | 0.1360445 |\n| 28 | 0.1444993 |\n| 30 | 0.1533864 |\n| 32 | 0.1627160 |\n| 34 | 0.1724975 |\n| 36 | 0.1827387 |\n| 38 | 0.1934457 |\n| 40 | 0.2046231 |\n| 42 | 0.2162731 |\n| 44 | 0.2283958 |\n| 46 | 0.2409892 |\n| 48 | 0.2540483 |\n| 50 | 0.2675657 |\n| 52 | 0.2815308 |\n| 54 | 0.2959303 |\n| 56 | 0.3107477 |\n| 58 | 0.3259636 |\n| 60 | 0.3415553 |\n| 62 | 0.3574973 |\n| 64 | 0.3737609 |\n| 66 | 0.3903150 |\n\n",
            "text/latex": "A matrix: 25 × 2 of type dbl\n\\begin{tabular}{ll}\n\t 18 & 0.1063052\\\\\n\t 20 & 0.1131540\\\\\n\t 22 & 0.1203845\\\\\n\t 24 & 0.1280103\\\\\n\t 26 & 0.1360445\\\\\n\t 28 & 0.1444993\\\\\n\t 30 & 0.1533864\\\\\n\t 32 & 0.1627160\\\\\n\t 34 & 0.1724975\\\\\n\t 36 & 0.1827387\\\\\n\t 38 & 0.1934457\\\\\n\t 40 & 0.2046231\\\\\n\t 42 & 0.2162731\\\\\n\t 44 & 0.2283958\\\\\n\t 46 & 0.2409892\\\\\n\t 48 & 0.2540483\\\\\n\t 50 & 0.2675657\\\\\n\t 52 & 0.2815308\\\\\n\t 54 & 0.2959303\\\\\n\t 56 & 0.3107477\\\\\n\t 58 & 0.3259636\\\\\n\t 60 & 0.3415553\\\\\n\t 62 & 0.3574973\\\\\n\t 64 & 0.3737609\\\\\n\t 66 & 0.3903150\\\\\n\\end{tabular}\n",
            "text/plain": [
              "      [,1] [,2]     \n",
              " [1,] 18   0.1063052\n",
              " [2,] 20   0.1131540\n",
              " [3,] 22   0.1203845\n",
              " [4,] 24   0.1280103\n",
              " [5,] 26   0.1360445\n",
              " [6,] 28   0.1444993\n",
              " [7,] 30   0.1533864\n",
              " [8,] 32   0.1627160\n",
              " [9,] 34   0.1724975\n",
              "[10,] 36   0.1827387\n",
              "[11,] 38   0.1934457\n",
              "[12,] 40   0.2046231\n",
              "[13,] 42   0.2162731\n",
              "[14,] 44   0.2283958\n",
              "[15,] 46   0.2409892\n",
              "[16,] 48   0.2540483\n",
              "[17,] 50   0.2675657\n",
              "[18,] 52   0.2815308\n",
              "[19,] 54   0.2959303\n",
              "[20,] 56   0.3107477\n",
              "[21,] 58   0.3259636\n",
              "[22,] 60   0.3415553\n",
              "[23,] 62   0.3574973\n",
              "[24,] 64   0.3737609\n",
              "[25,] 66   0.3903150"
            ]
          },
          "metadata": {}
        },
        {
          "output_type": "display_data",
          "data": {
            "text/plain": [
              "plot without title"
            ],
            "image/png": "[encoded data removed]"
          },
          "metadata": {
            "image/png": {
              "width": 420,
              "height": 420
            }
          }
        }
      ]
    },
    {
      "cell_type": "code",
      "source": [
        "#(Q8) How is the predicted probability affected by changing only age holding all other variables constant?\n",
        "# ==>  It is getting higher which also make sense because when a client is old."
      ],
      "metadata": {
        "id": "zCH1m3zIYCWF"
      },
      "execution_count": 22,
      "outputs": []
    },
    {
      "cell_type": "code",
      "source": [
        "#Prediction - 3\n",
        "newdata3 <- data.frame(Income= seq(20,90,10),Age=mean(Mydata$Age),Price=30)\n",
        "newdata3$PurchaseP<-predict(mylogit,newdata=newdata3,type=\"response\")\n",
        "cbind(newdata3$Income,newdata3$PurchaseP)\n",
        "plot(newdata3$Income,newdata3$PurchaseP)\n"
      ],
      "metadata": {
        "colab": {
          "base_uri": "https://localhost:8080/",
          "height": 722
        },
        "id": "cGvwc8WyYBTk",
        "outputId": "3d3cdb02-2269-45ff-b266-5b4433c2414d"
      },
      "execution_count": 23,
      "outputs": [
        {
          "output_type": "display_data",
          "data": {
            "text/html": [
              "<table class=\"dataframe\">\n",
              "<caption>A matrix: 8 × 2 of type dbl</caption>\n",
              "<tbody>\n",
              "\t<tr><td>20</td><td>0.01219091</td></tr>\n",
              "\t<tr><td>30</td><td>0.04281102</td></tr>\n",
              "\t<tr><td>40</td><td>0.13948050</td></tr>\n",
              "\t<tr><td>50</td><td>0.37004640</td></tr>\n",
              "\t<tr><td>60</td><td>0.68039246</td></tr>\n",
              "\t<tr><td>70</td><td>0.88525564</td></tr>\n",
              "\t<tr><td>80</td><td>0.96546923</td></tr>\n",
              "\t<tr><td>90</td><td>0.99022745</td></tr>\n",
              "</tbody>\n",
              "</table>\n"
            ],
            "text/markdown": "\nA matrix: 8 × 2 of type dbl\n\n| 20 | 0.01219091 |\n| 30 | 0.04281102 |\n| 40 | 0.13948050 |\n| 50 | 0.37004640 |\n| 60 | 0.68039246 |\n| 70 | 0.88525564 |\n| 80 | 0.96546923 |\n| 90 | 0.99022745 |\n\n",
            "text/latex": "A matrix: 8 × 2 of type dbl\n\\begin{tabular}{ll}\n\t 20 & 0.01219091\\\\\n\t 30 & 0.04281102\\\\\n\t 40 & 0.13948050\\\\\n\t 50 & 0.37004640\\\\\n\t 60 & 0.68039246\\\\\n\t 70 & 0.88525564\\\\\n\t 80 & 0.96546923\\\\\n\t 90 & 0.99022745\\\\\n\\end{tabular}\n",
            "text/plain": [
              "     [,1] [,2]      \n",
              "[1,] 20   0.01219091\n",
              "[2,] 30   0.04281102\n",
              "[3,] 40   0.13948050\n",
              "[4,] 50   0.37004640\n",
              "[5,] 60   0.68039246\n",
              "[6,] 70   0.88525564\n",
              "[7,] 80   0.96546923\n",
              "[8,] 90   0.99022745"
            ]
          },
          "metadata": {}
        },
        {
          "output_type": "display_data",
          "data": {
            "text/plain": [
              "plot without title"
            ],
            "image/png": "[encoded data removed]"
          },
          "metadata": {
            "image/png": {
              "width": 420,
              "height": 420
            }
          }
        }
      ]
    },
    {
      "cell_type": "code",
      "source": [
        "#(Q9) How is the predicted probability affected by changing only income holding all other variables constant?\n",
        "# ==> It is getting higher as the income increase and this is making sense\n",
        "# ==> because when the income is getting higher\n",
        "# ==> a client would have more money and would purchase with a high probability"
      ],
      "metadata": {
        "id": "2GTwwvXlYGSU"
      },
      "execution_count": 24,
      "outputs": []
    },
    {
      "cell_type": "code",
      "execution_count": 25,
      "metadata": {
        "id": "hgf6k0RXVvVF",
        "colab": {
          "base_uri": "https://localhost:8080/",
          "height": 411
        },
        "outputId": "f6c23471-648e-4900-ddd1-626ac24d980f"
      },
      "outputs": [
        {
          "output_type": "display_data",
          "data": {
            "text/html": [
              "<table class=\"dataframe\">\n",
              "<caption>A data.frame: 10 × 4</caption>\n",
              "<thead>\n",
              "\t<tr><th scope=col>Age</th><th scope=col>Income</th><th scope=col>Price</th><th scope=col>Prob</th></tr>\n",
              "\t<tr><th scope=col>&lt;dbl&gt;</th><th scope=col>&lt;dbl&gt;</th><th scope=col>&lt;dbl&gt;</th><th scope=col>&lt;dbl&gt;</th></tr>\n",
              "</thead>\n",
              "<tbody>\n",
              "\t<tr><td>50</td><td>35</td><td>20</td><td>0.3762324</td></tr>\n",
              "\t<tr><td>51</td><td>80</td><td>20</td><td>0.9951488</td></tr>\n",
              "\t<tr><td>32</td><td>89</td><td>10</td><td>0.9985868</td></tr>\n",
              "\t<tr><td>54</td><td>68</td><td>10</td><td>0.9903196</td></tr>\n",
              "\t<tr><td>56</td><td>93</td><td>10</td><td>0.9996357</td></tr>\n",
              "\t<tr><td>35</td><td>73</td><td>20</td><td>0.9793935</td></tr>\n",
              "\t<tr><td>42</td><td>28</td><td>10</td><td>0.2802505</td></tr>\n",
              "\t<tr><td>23</td><td>98</td><td>20</td><td>0.9987199</td></tr>\n",
              "\t<tr><td>35</td><td>19</td><td>30</td><td>0.0103765</td></tr>\n",
              "\t<tr><td>35</td><td>58</td><td>10</td><td>0.9354819</td></tr>\n",
              "</tbody>\n",
              "</table>\n"
            ],
            "text/markdown": "\nA data.frame: 10 × 4\n\n| Age &lt;dbl&gt; | Income &lt;dbl&gt; | Price &lt;dbl&gt; | Prob &lt;dbl&gt; |\n|---|---|---|---|\n| 50 | 35 | 20 | 0.3762324 |\n| 51 | 80 | 20 | 0.9951488 |\n| 32 | 89 | 10 | 0.9985868 |\n| 54 | 68 | 10 | 0.9903196 |\n| 56 | 93 | 10 | 0.9996357 |\n| 35 | 73 | 20 | 0.9793935 |\n| 42 | 28 | 10 | 0.2802505 |\n| 23 | 98 | 20 | 0.9987199 |\n| 35 | 19 | 30 | 0.0103765 |\n| 35 | 58 | 10 | 0.9354819 |\n\n",
            "text/latex": "A data.frame: 10 × 4\n\\begin{tabular}{llll}\n Age & Income & Price & Prob\\\\\n <dbl> & <dbl> & <dbl> & <dbl>\\\\\n\\hline\n\t 50 & 35 & 20 & 0.3762324\\\\\n\t 51 & 80 & 20 & 0.9951488\\\\\n\t 32 & 89 & 10 & 0.9985868\\\\\n\t 54 & 68 & 10 & 0.9903196\\\\\n\t 56 & 93 & 10 & 0.9996357\\\\\n\t 35 & 73 & 20 & 0.9793935\\\\\n\t 42 & 28 & 10 & 0.2802505\\\\\n\t 23 & 98 & 20 & 0.9987199\\\\\n\t 35 & 19 & 30 & 0.0103765\\\\\n\t 35 & 58 & 10 & 0.9354819\\\\\n\\end{tabular}\n",
            "text/plain": [
              "   Age Income Price Prob     \n",
              "1  50  35     20    0.3762324\n",
              "2  51  80     20    0.9951488\n",
              "3  32  89     10    0.9985868\n",
              "4  54  68     10    0.9903196\n",
              "5  56  93     10    0.9996357\n",
              "6  35  73     20    0.9793935\n",
              "7  42  28     10    0.2802505\n",
              "8  23  98     20    0.9987199\n",
              "9  35  19     30    0.0103765\n",
              "10 35  58     10    0.9354819"
            ]
          },
          "metadata": {}
        }
      ],
      "source": [
        "#Prediction 4\n",
        "newdata4 <- data.frame (Age= round(runif(10,min(Mydata$Age),max(Mydata$Age))),\n",
        "                        Income= round(runif(10,min(Mydata$Income),max(Mydata$Income))),\n",
        "                        Price = round((runif(10,10,30)/10))*10)\n",
        "newdata4$Prob <- predict(mylogit,newdata=newdata4,type=\"response\")\n",
        "newdata4\n"
      ]
    },
    {
      "cell_type": "code",
      "source": [],
      "metadata": {
        "id": "VyEnQNQ3YViR"
      },
      "execution_count": null,
      "outputs": []
    }
  ]
}